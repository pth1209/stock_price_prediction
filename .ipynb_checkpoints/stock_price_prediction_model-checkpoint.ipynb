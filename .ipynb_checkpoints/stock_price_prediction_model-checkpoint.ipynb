{
 "cells": [
  {
   "cell_type": "markdown",
   "id": "50814aaf",
   "metadata": {},
   "source": [
    "# Predict price of a stock"
   ]
  },
  {
   "cell_type": "code",
   "execution_count": 2,
   "id": "7047c268",
   "metadata": {},
   "outputs": [],
   "source": [
    "import pandas as np\n",
    "import numpy as np\n",
    "from pandas_datareader import data as pdr\n",
    "import yfinance as yfin\n",
    "from scipy import stats\n",
    "yfin.pdr_override()"
   ]
  },
  {
   "cell_type": "code",
   "execution_count": 3,
   "id": "647bf126",
   "metadata": {},
   "outputs": [
    {
     "name": "stdout",
     "output_type": "stream",
     "text": [
      "Enter preferred stock ticker symbol: TSLA\n"
     ]
    }
   ],
   "source": [
    "stock_ticker = input(\"Enter preferred stock ticker symbol: \")\n",
    "stock_ticker = stock_ticker.upper()"
   ]
  },
  {
   "cell_type": "code",
   "execution_count": 4,
   "id": "99ec81ed",
   "metadata": {},
   "outputs": [
    {
     "name": "stdout",
     "output_type": "stream",
     "text": [
      "[*********************100%***********************]  1 of 1 completed\n"
     ]
    }
   ],
   "source": [
    "df = pdr.get_data_yahoo(stock_ticker, start=\"2018-01-01\", end=\"2023-06-04\")"
   ]
  },
  {
   "cell_type": "markdown",
   "id": "02d2ea29",
   "metadata": {},
   "source": [
    "## Preprocessing data"
   ]
  },
  {
   "cell_type": "code",
   "execution_count": 5,
   "id": "c818d0da",
   "metadata": {},
   "outputs": [
    {
     "data": {
      "text/html": [
       "<div>\n",
       "<style scoped>\n",
       "    .dataframe tbody tr th:only-of-type {\n",
       "        vertical-align: middle;\n",
       "    }\n",
       "\n",
       "    .dataframe tbody tr th {\n",
       "        vertical-align: top;\n",
       "    }\n",
       "\n",
       "    .dataframe thead th {\n",
       "        text-align: right;\n",
       "    }\n",
       "</style>\n",
       "<table border=\"1\" class=\"dataframe\">\n",
       "  <thead>\n",
       "    <tr style=\"text-align: right;\">\n",
       "      <th></th>\n",
       "      <th>Open</th>\n",
       "      <th>High</th>\n",
       "      <th>Low</th>\n",
       "      <th>Close</th>\n",
       "      <th>Adj Close</th>\n",
       "      <th>Volume</th>\n",
       "    </tr>\n",
       "    <tr>\n",
       "      <th>Date</th>\n",
       "      <th></th>\n",
       "      <th></th>\n",
       "      <th></th>\n",
       "      <th></th>\n",
       "      <th></th>\n",
       "      <th></th>\n",
       "    </tr>\n",
       "  </thead>\n",
       "  <tbody>\n",
       "    <tr>\n",
       "      <th>2018-01-02</th>\n",
       "      <td>20.799999</td>\n",
       "      <td>21.474001</td>\n",
       "      <td>20.733334</td>\n",
       "      <td>21.368668</td>\n",
       "      <td>21.368668</td>\n",
       "      <td>65283000</td>\n",
       "    </tr>\n",
       "    <tr>\n",
       "      <th>2018-01-03</th>\n",
       "      <td>21.400000</td>\n",
       "      <td>21.683332</td>\n",
       "      <td>21.036667</td>\n",
       "      <td>21.150000</td>\n",
       "      <td>21.150000</td>\n",
       "      <td>67822500</td>\n",
       "    </tr>\n",
       "    <tr>\n",
       "      <th>2018-01-04</th>\n",
       "      <td>20.858000</td>\n",
       "      <td>21.236668</td>\n",
       "      <td>20.378668</td>\n",
       "      <td>20.974667</td>\n",
       "      <td>20.974667</td>\n",
       "      <td>149194500</td>\n",
       "    </tr>\n",
       "    <tr>\n",
       "      <th>2018-01-05</th>\n",
       "      <td>21.108000</td>\n",
       "      <td>21.149332</td>\n",
       "      <td>20.799999</td>\n",
       "      <td>21.105333</td>\n",
       "      <td>21.105333</td>\n",
       "      <td>68868000</td>\n",
       "    </tr>\n",
       "    <tr>\n",
       "      <th>2018-01-08</th>\n",
       "      <td>21.066668</td>\n",
       "      <td>22.468000</td>\n",
       "      <td>21.033333</td>\n",
       "      <td>22.427334</td>\n",
       "      <td>22.427334</td>\n",
       "      <td>147891000</td>\n",
       "    </tr>\n",
       "  </tbody>\n",
       "</table>\n",
       "</div>"
      ],
      "text/plain": [
       "                 Open       High        Low      Close  Adj Close     Volume\n",
       "Date                                                                        \n",
       "2018-01-02  20.799999  21.474001  20.733334  21.368668  21.368668   65283000\n",
       "2018-01-03  21.400000  21.683332  21.036667  21.150000  21.150000   67822500\n",
       "2018-01-04  20.858000  21.236668  20.378668  20.974667  20.974667  149194500\n",
       "2018-01-05  21.108000  21.149332  20.799999  21.105333  21.105333   68868000\n",
       "2018-01-08  21.066668  22.468000  21.033333  22.427334  22.427334  147891000"
      ]
     },
     "execution_count": 5,
     "metadata": {},
     "output_type": "execute_result"
    }
   ],
   "source": [
    "df.head()"
   ]
  },
  {
   "cell_type": "code",
   "execution_count": 6,
   "id": "24304baf",
   "metadata": {},
   "outputs": [
    {
     "data": {
      "text/plain": [
       "Open         0\n",
       "High         0\n",
       "Low          0\n",
       "Close        0\n",
       "Adj Close    0\n",
       "Volume       0\n",
       "dtype: int64"
      ]
     },
     "execution_count": 6,
     "metadata": {},
     "output_type": "execute_result"
    }
   ],
   "source": [
    "df.isnull().sum()"
   ]
  },
  {
   "cell_type": "code",
   "execution_count": 7,
   "id": "619e3e3e",
   "metadata": {},
   "outputs": [
    {
     "data": {
      "text/plain": [
       "Open         False\n",
       "High         False\n",
       "Low          False\n",
       "Close        False\n",
       "Adj Close    False\n",
       "Volume       False\n",
       "dtype: bool"
      ]
     },
     "execution_count": 7,
     "metadata": {},
     "output_type": "execute_result"
    }
   ],
   "source": [
    "df.isna().any()"
   ]
  },
  {
   "cell_type": "code",
   "execution_count": null,
   "id": "5c73cf79",
   "metadata": {},
   "outputs": [],
   "source": [
    "#Check for outliers using z-scores and remove outliers if needed"
   ]
  },
  {
   "cell_type": "code",
   "execution_count": 13,
   "id": "f82eb35c",
   "metadata": {},
   "outputs": [],
   "source": [
    "z_scores = np.abs(stats.zscore(df[\"Close\"]))\n",
    "df[\"z_scores\"] = z_scores"
   ]
  },
  {
   "cell_type": "code",
   "execution_count": 16,
   "id": "3d3b7e3a",
   "metadata": {},
   "outputs": [],
   "source": [
    "threshold = 3\n",
    "outliers = df[\"z_scores\"] > threshold\n",
    "df = df[~outliers]"
   ]
  },
  {
   "cell_type": "code",
   "execution_count": 25,
   "id": "ae376f2e",
   "metadata": {},
   "outputs": [
    {
     "data": {
      "text/html": [
       "<div>\n",
       "<style scoped>\n",
       "    .dataframe tbody tr th:only-of-type {\n",
       "        vertical-align: middle;\n",
       "    }\n",
       "\n",
       "    .dataframe tbody tr th {\n",
       "        vertical-align: top;\n",
       "    }\n",
       "\n",
       "    .dataframe thead th {\n",
       "        text-align: right;\n",
       "    }\n",
       "</style>\n",
       "<table border=\"1\" class=\"dataframe\">\n",
       "  <thead>\n",
       "    <tr style=\"text-align: right;\">\n",
       "      <th></th>\n",
       "      <th>Open</th>\n",
       "      <th>High</th>\n",
       "      <th>Low</th>\n",
       "      <th>Close</th>\n",
       "      <th>Adj Close</th>\n",
       "      <th>Volume</th>\n",
       "      <th>z_scores</th>\n",
       "    </tr>\n",
       "    <tr>\n",
       "      <th>Date</th>\n",
       "      <th></th>\n",
       "      <th></th>\n",
       "      <th></th>\n",
       "      <th></th>\n",
       "      <th></th>\n",
       "      <th></th>\n",
       "      <th></th>\n",
       "    </tr>\n",
       "  </thead>\n",
       "  <tbody>\n",
       "    <tr>\n",
       "      <th>2018-01-02</th>\n",
       "      <td>20.799999</td>\n",
       "      <td>21.474001</td>\n",
       "      <td>20.733334</td>\n",
       "      <td>21.368668</td>\n",
       "      <td>21.368668</td>\n",
       "      <td>65283000</td>\n",
       "      <td>0.998360</td>\n",
       "    </tr>\n",
       "    <tr>\n",
       "      <th>2018-01-03</th>\n",
       "      <td>21.400000</td>\n",
       "      <td>21.683332</td>\n",
       "      <td>21.036667</td>\n",
       "      <td>21.150000</td>\n",
       "      <td>21.150000</td>\n",
       "      <td>67822500</td>\n",
       "      <td>1.000278</td>\n",
       "    </tr>\n",
       "    <tr>\n",
       "      <th>2018-01-04</th>\n",
       "      <td>20.858000</td>\n",
       "      <td>21.236668</td>\n",
       "      <td>20.378668</td>\n",
       "      <td>20.974667</td>\n",
       "      <td>20.974667</td>\n",
       "      <td>149194500</td>\n",
       "      <td>1.001816</td>\n",
       "    </tr>\n",
       "    <tr>\n",
       "      <th>2018-01-05</th>\n",
       "      <td>21.108000</td>\n",
       "      <td>21.149332</td>\n",
       "      <td>20.799999</td>\n",
       "      <td>21.105333</td>\n",
       "      <td>21.105333</td>\n",
       "      <td>68868000</td>\n",
       "      <td>1.000670</td>\n",
       "    </tr>\n",
       "    <tr>\n",
       "      <th>2018-01-08</th>\n",
       "      <td>21.066668</td>\n",
       "      <td>22.468000</td>\n",
       "      <td>21.033333</td>\n",
       "      <td>22.427334</td>\n",
       "      <td>22.427334</td>\n",
       "      <td>147891000</td>\n",
       "      <td>0.989073</td>\n",
       "    </tr>\n",
       "  </tbody>\n",
       "</table>\n",
       "</div>"
      ],
      "text/plain": [
       "                 Open       High        Low      Close  Adj Close     Volume  \\\n",
       "Date                                                                           \n",
       "2018-01-02  20.799999  21.474001  20.733334  21.368668  21.368668   65283000   \n",
       "2018-01-03  21.400000  21.683332  21.036667  21.150000  21.150000   67822500   \n",
       "2018-01-04  20.858000  21.236668  20.378668  20.974667  20.974667  149194500   \n",
       "2018-01-05  21.108000  21.149332  20.799999  21.105333  21.105333   68868000   \n",
       "2018-01-08  21.066668  22.468000  21.033333  22.427334  22.427334  147891000   \n",
       "\n",
       "            z_scores  \n",
       "Date                  \n",
       "2018-01-02  0.998360  \n",
       "2018-01-03  1.000278  \n",
       "2018-01-04  1.001816  \n",
       "2018-01-05  1.000670  \n",
       "2018-01-08  0.989073  "
      ]
     },
     "execution_count": 25,
     "metadata": {},
     "output_type": "execute_result"
    }
   ],
   "source": [
    "df.head()"
   ]
  },
  {
   "cell_type": "markdown",
   "id": "e2f84a28",
   "metadata": {},
   "source": [
    "## Train / Test data"
   ]
  },
  {
   "cell_type": "code",
   "execution_count": 17,
   "id": "afda9afe",
   "metadata": {},
   "outputs": [],
   "source": [
    "X = df[[\"Open\", \"High\", \"Low\", \"Volume\"]]\n",
    "y = df[\"Close\"]"
   ]
  },
  {
   "cell_type": "code",
   "execution_count": null,
   "id": "50c95aa7",
   "metadata": {},
   "outputs": [],
   "source": [
    "#Did not use \"Adj close\" column as it seemed the information was not needed"
   ]
  },
  {
   "cell_type": "code",
   "execution_count": 18,
   "id": "711b17a4",
   "metadata": {},
   "outputs": [],
   "source": [
    "from sklearn.model_selection import train_test_split"
   ]
  },
  {
   "cell_type": "code",
   "execution_count": 19,
   "id": "8a09a4e3",
   "metadata": {},
   "outputs": [],
   "source": [
    "X_train, X_test, y_train, y_test = train_test_split(X, y, test_size=0.2, random_state=42)"
   ]
  },
  {
   "cell_type": "markdown",
   "id": "0f2a689e",
   "metadata": {},
   "source": [
    "## Creating and training model"
   ]
  },
  {
   "cell_type": "code",
   "execution_count": 20,
   "id": "3d1ee72b",
   "metadata": {},
   "outputs": [],
   "source": [
    "from sklearn.linear_model import LinearRegression"
   ]
  },
  {
   "cell_type": "code",
   "execution_count": 21,
   "id": "194e54f1",
   "metadata": {},
   "outputs": [],
   "source": [
    "stock_predict_reg = LinearRegression()"
   ]
  },
  {
   "cell_type": "code",
   "execution_count": 22,
   "id": "db7911f8",
   "metadata": {},
   "outputs": [
    {
     "data": {
      "text/html": [
       "<style>#sk-container-id-1 {color: black;background-color: white;}#sk-container-id-1 pre{padding: 0;}#sk-container-id-1 div.sk-toggleable {background-color: white;}#sk-container-id-1 label.sk-toggleable__label {cursor: pointer;display: block;width: 100%;margin-bottom: 0;padding: 0.3em;box-sizing: border-box;text-align: center;}#sk-container-id-1 label.sk-toggleable__label-arrow:before {content: \"▸\";float: left;margin-right: 0.25em;color: #696969;}#sk-container-id-1 label.sk-toggleable__label-arrow:hover:before {color: black;}#sk-container-id-1 div.sk-estimator:hover label.sk-toggleable__label-arrow:before {color: black;}#sk-container-id-1 div.sk-toggleable__content {max-height: 0;max-width: 0;overflow: hidden;text-align: left;background-color: #f0f8ff;}#sk-container-id-1 div.sk-toggleable__content pre {margin: 0.2em;color: black;border-radius: 0.25em;background-color: #f0f8ff;}#sk-container-id-1 input.sk-toggleable__control:checked~div.sk-toggleable__content {max-height: 200px;max-width: 100%;overflow: auto;}#sk-container-id-1 input.sk-toggleable__control:checked~label.sk-toggleable__label-arrow:before {content: \"▾\";}#sk-container-id-1 div.sk-estimator input.sk-toggleable__control:checked~label.sk-toggleable__label {background-color: #d4ebff;}#sk-container-id-1 div.sk-label input.sk-toggleable__control:checked~label.sk-toggleable__label {background-color: #d4ebff;}#sk-container-id-1 input.sk-hidden--visually {border: 0;clip: rect(1px 1px 1px 1px);clip: rect(1px, 1px, 1px, 1px);height: 1px;margin: -1px;overflow: hidden;padding: 0;position: absolute;width: 1px;}#sk-container-id-1 div.sk-estimator {font-family: monospace;background-color: #f0f8ff;border: 1px dotted black;border-radius: 0.25em;box-sizing: border-box;margin-bottom: 0.5em;}#sk-container-id-1 div.sk-estimator:hover {background-color: #d4ebff;}#sk-container-id-1 div.sk-parallel-item::after {content: \"\";width: 100%;border-bottom: 1px solid gray;flex-grow: 1;}#sk-container-id-1 div.sk-label:hover label.sk-toggleable__label {background-color: #d4ebff;}#sk-container-id-1 div.sk-serial::before {content: \"\";position: absolute;border-left: 1px solid gray;box-sizing: border-box;top: 0;bottom: 0;left: 50%;z-index: 0;}#sk-container-id-1 div.sk-serial {display: flex;flex-direction: column;align-items: center;background-color: white;padding-right: 0.2em;padding-left: 0.2em;position: relative;}#sk-container-id-1 div.sk-item {position: relative;z-index: 1;}#sk-container-id-1 div.sk-parallel {display: flex;align-items: stretch;justify-content: center;background-color: white;position: relative;}#sk-container-id-1 div.sk-item::before, #sk-container-id-1 div.sk-parallel-item::before {content: \"\";position: absolute;border-left: 1px solid gray;box-sizing: border-box;top: 0;bottom: 0;left: 50%;z-index: -1;}#sk-container-id-1 div.sk-parallel-item {display: flex;flex-direction: column;z-index: 1;position: relative;background-color: white;}#sk-container-id-1 div.sk-parallel-item:first-child::after {align-self: flex-end;width: 50%;}#sk-container-id-1 div.sk-parallel-item:last-child::after {align-self: flex-start;width: 50%;}#sk-container-id-1 div.sk-parallel-item:only-child::after {width: 0;}#sk-container-id-1 div.sk-dashed-wrapped {border: 1px dashed gray;margin: 0 0.4em 0.5em 0.4em;box-sizing: border-box;padding-bottom: 0.4em;background-color: white;}#sk-container-id-1 div.sk-label label {font-family: monospace;font-weight: bold;display: inline-block;line-height: 1.2em;}#sk-container-id-1 div.sk-label-container {text-align: center;}#sk-container-id-1 div.sk-container {/* jupyter's `normalize.less` sets `[hidden] { display: none; }` but bootstrap.min.css set `[hidden] { display: none !important; }` so we also need the `!important` here to be able to override the default hidden behavior on the sphinx rendered scikit-learn.org. See: https://github.com/scikit-learn/scikit-learn/issues/21755 */display: inline-block !important;position: relative;}#sk-container-id-1 div.sk-text-repr-fallback {display: none;}</style><div id=\"sk-container-id-1\" class=\"sk-top-container\"><div class=\"sk-text-repr-fallback\"><pre>LinearRegression()</pre><b>In a Jupyter environment, please rerun this cell to show the HTML representation or trust the notebook. <br />On GitHub, the HTML representation is unable to render, please try loading this page with nbviewer.org.</b></div><div class=\"sk-container\" hidden><div class=\"sk-item\"><div class=\"sk-estimator sk-toggleable\"><input class=\"sk-toggleable__control sk-hidden--visually\" id=\"sk-estimator-id-1\" type=\"checkbox\" checked><label for=\"sk-estimator-id-1\" class=\"sk-toggleable__label sk-toggleable__label-arrow\">LinearRegression</label><div class=\"sk-toggleable__content\"><pre>LinearRegression()</pre></div></div></div></div></div>"
      ],
      "text/plain": [
       "LinearRegression()"
      ]
     },
     "execution_count": 22,
     "metadata": {},
     "output_type": "execute_result"
    }
   ],
   "source": [
    "stock_predict_reg.fit(X_train, y_train)"
   ]
  },
  {
   "cell_type": "code",
   "execution_count": 23,
   "id": "082fceae",
   "metadata": {},
   "outputs": [],
   "source": [
    "predictions = stock_predict_reg.predict(X_test)"
   ]
  },
  {
   "cell_type": "markdown",
   "id": "3c0ef914",
   "metadata": {},
   "source": [
    "## Evaluating model"
   ]
  },
  {
   "cell_type": "code",
   "execution_count": 24,
   "id": "5113e3c1",
   "metadata": {},
   "outputs": [],
   "source": [
    "from sklearn import metrics"
   ]
  },
  {
   "cell_type": "code",
   "execution_count": 26,
   "id": "af38894e",
   "metadata": {},
   "outputs": [
    {
     "name": "stdout",
     "output_type": "stream",
     "text": [
      "RMSE:  2.2284582774081985\n"
     ]
    }
   ],
   "source": [
    "#Utilize root mean squared error\n",
    "print(\"RMSE: \", np.sqrt(metrics.mean_squared_error(y_test, predictions)))"
   ]
  },
  {
   "cell_type": "code",
   "execution_count": null,
   "id": "6fffc67e",
   "metadata": {},
   "outputs": [],
   "source": []
  }
 ],
 "metadata": {
  "kernelspec": {
   "display_name": "Python 3 (ipykernel)",
   "language": "python",
   "name": "python3"
  },
  "language_info": {
   "codemirror_mode": {
    "name": "ipython",
    "version": 3
   },
   "file_extension": ".py",
   "mimetype": "text/x-python",
   "name": "python",
   "nbconvert_exporter": "python",
   "pygments_lexer": "ipython3",
   "version": "3.10.9"
  }
 },
 "nbformat": 4,
 "nbformat_minor": 5
}
